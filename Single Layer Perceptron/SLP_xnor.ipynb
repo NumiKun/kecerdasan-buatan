{
 "cells": [
  {
   "cell_type": "markdown",
   "metadata": {},
   "source": [
    "### Logic Gate XNOR"
   ]
  },
  {
   "cell_type": "code",
   "execution_count": null,
   "metadata": {},
   "outputs": [],
   "source": [
    "# importing Python library\n",
    "import numpy as np\n",
    "\n",
    "# define Unit Step Function\n",
    "def unitStep(v):\n",
    "\tif v >= 0:\n",
    "\t\treturn 1\n",
    "\telse:\n",
    "\t\treturn 0\n",
    "\n",
    "# design Perceptron Model\n",
    "def perceptronModel(x, w, b):\n",
    "\tv = np.dot(w, x) + b\n",
    "\ty = unitStep(v)\n",
    "\treturn y\n",
    "\n",
    "# NOT Logic Function\n",
    "# wNOT = -1, bNOT = 0.5\n",
    "def NOT_logicFunction(x):\n",
    "\twNOT = -1\n",
    "\tbNOT = 0.5\n",
    "\treturn perceptronModel(x, wNOT, bNOT)\n",
    "\n",
    "# AND Logic Function\n",
    "# w1 = 1, w2 = 1, bAND = -1.5\n",
    "def AND_logicFunction(x):\n",
    "\tw = np.array([1, 1])\n",
    "\tbAND = -1.5\n",
    "\treturn perceptronModel(x, w, bAND)\n",
    "\n",
    "# OR Logic Function\n",
    "# here w1 = wOR1 = 1, \n",
    "# w2 = wOR2 = 1, bOR = -0.5\n",
    "def OR_logicFunction(x):\n",
    "\tw = np.array([1, 1])\n",
    "\tbOR = -0.5\n",
    "\treturn perceptronModel(x, w, bOR)\n",
    "\n",
    "# XNOR Logic Function\n",
    "# with AND, OR and NOT \n",
    "# function calls in sequence\n",
    "def XNOR_logicFunction(x):\n",
    "\ty1 = OR_logicFunction(x)\n",
    "\ty2 = AND_logicFunction(x)\n",
    "\ty3 = NOT_logicFunction(y1)\n",
    "\tfinal_x = np.array([y2, y3])\n",
    "\tfinalOutput = OR_logicFunction(final_x)\n",
    "\treturn finalOutput\n",
    "\n",
    "# testing the Perceptron Model\n",
    "test1 = np.array([0, 1])\n",
    "test2 = np.array([1, 1])\n",
    "test3 = np.array([0, 0])\n",
    "test4 = np.array([1, 0])\n",
    "\n",
    "print(\"XNOR({}, {}) = {}\".format(0, 1, XNOR_logicFunction(test1)))\n",
    "print(\"XNOR({}, {}) = {}\".format(1, 1, XNOR_logicFunction(test2)))\n",
    "print(\"XNOR({}, {}) = {}\".format(0, 0, XNOR_logicFunction(test3)))\n",
    "print(\"XNOR({}, {}) = {}\".format(1, 0, XNOR_logicFunction(test4)))\n"
   ]
  }
 ],
 "metadata": {
  "language_info": {
   "name": "python"
  }
 },
 "nbformat": 4,
 "nbformat_minor": 2
}
