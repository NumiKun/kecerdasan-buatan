{
 "cells": [
  {
   "cell_type": "markdown",
   "metadata": {},
   "source": [
    "### Logic Gate NOT"
   ]
  },
  {
   "cell_type": "code",
   "execution_count": null,
   "metadata": {},
   "outputs": [],
   "source": [
    "# importing Python library \n",
    "import numpy as np \n",
    "\n",
    "# define Unit Step Function \n",
    "def unitStep(v): \n",
    "\tif v >= 0: \n",
    "\t\treturn 1\n",
    "\telse: \n",
    "\t\treturn 0\n",
    "\n",
    "# design Perceptron Model \n",
    "def perceptronModel(x, w, b): \n",
    "\tv = np.dot(w, x) + b \n",
    "\ty = unitStep(v) \n",
    "\treturn y \n",
    "\n",
    "# NOT Logic Function \n",
    "# w = -1, b = 0.5 \n",
    "def NOT_logicFunction(x): \n",
    "\tw = -1\n",
    "\tb = 0.5\n",
    "\treturn perceptronModel(x, w, b) \n",
    "\n",
    "# testing the Perceptron Model \n",
    "test1 = np.array(1) \n",
    "test2 = np.array(0) \n",
    "\n",
    "print(\"NOT({}) = {}\".format(1, NOT_logicFunction(test1))) \n",
    "print(\"NOT({}) = {}\".format(0, NOT_logicFunction(test2))) \n"
   ]
  }
 ],
 "metadata": {
  "language_info": {
   "name": "python"
  }
 },
 "nbformat": 4,
 "nbformat_minor": 2
}
